{
  "nbformat": 4,
  "nbformat_minor": 0,
  "metadata": {
    "colab": {
      "provenance": []
    },
    "kernelspec": {
      "name": "python3",
      "display_name": "Python 3"
    },
    "language_info": {
      "name": "python"
    }
  },
  "cells": [
    {
      "cell_type": "markdown",
      "source": [
        "ANSWER SHEET"
      ],
      "metadata": {
        "id": "lel9cWM39qXl"
      }
    },
    {
      "cell_type": "markdown",
      "source": [
        "1.  What is NumPy, and why is it widely used in Python?\n"
      ],
      "metadata": {
        "id": "EM90Dnvv9v3F"
      }
    },
    {
      "cell_type": "markdown",
      "source": [
        "ANS - NumPy, short for \"Numerical Python,\" is a powerful library in Python that provides support for large multi-dimensional arrays and matrices, along with a wide range of mathematical functions to operate on these arrays."
      ],
      "metadata": {
        "id": "tOM0W9XG9za7"
      }
    },
    {
      "cell_type": "markdown",
      "source": [
        "2.  How does broadcasting work in NumPy?"
      ],
      "metadata": {
        "id": "wL4Ufgto-B1k"
      }
    },
    {
      "cell_type": "markdown",
      "source": [
        "ANS - Broadcasting in NumPy allows you to perform arithmetic operations on arrays of different shapes without needing to create copies of the arrays or explicitly expand their shapes. This can be both efficient and convenient for various numerical computations."
      ],
      "metadata": {
        "id": "3zVGD-qT-JBi"
      }
    },
    {
      "cell_type": "markdown",
      "source": [
        "3.  What is a Pandas DataFrame?"
      ],
      "metadata": {
        "id": "2BLGE9_--0hX"
      }
    },
    {
      "cell_type": "markdown",
      "source": [
        "ANS - A Pandas DataFrame is a powerful, flexible, and widely used data structure in the Python library Pandas. It is designed for data manipulation, analysis, and visualization. Think of a DataFrame as a table similar to an Excel spreadsheet or a SQL table, but with added functionality and flexibility."
      ],
      "metadata": {
        "id": "1z6bKcI8-5J-"
      }
    },
    {
      "cell_type": "markdown",
      "source": [
        "4.  Explain the use of the groupby() method in Pandas."
      ],
      "metadata": {
        "id": "HFV0kLtN_HC0"
      }
    },
    {
      "cell_type": "markdown",
      "source": [
        "ANS - The groupby() method in Pandas is a powerful tool for grouping and aggregating data based on certain criteria. It is commonly used for data summarization and analysis, allowing you to split the data into groups, apply a function to each group independently, and then combine the results."
      ],
      "metadata": {
        "id": "Ro7ymi-y_LSs"
      }
    },
    {
      "cell_type": "markdown",
      "source": [
        "5.  Why is Seaborn preferred for statistical visualizations?"
      ],
      "metadata": {
        "id": "bMlI4I9C_S6c"
      }
    },
    {
      "cell_type": "markdown",
      "source": [
        "ANS - Seaborn is a popular library for statistical visualizations in Python, and it's preferred for several reasons:\n",
        "1. High-Level Interface\n",
        "2. Integration with Pandas\n",
        "3. Built-in Themes and Color Palettes\n",
        "4. Statistical Plots\n",
        "5. Ease of Customization\n",
        "6. Built on Matplotlib\n",
        "7. Support for Complex Visualizations"
      ],
      "metadata": {
        "id": "pfb_0_I5_cV8"
      }
    },
    {
      "cell_type": "markdown",
      "source": [
        "6. What are the differences between NumPy arrays and Python lists?"
      ],
      "metadata": {
        "id": "yKy2ZEdW_9ci"
      }
    },
    {
      "cell_type": "markdown",
      "source": [
        "ANS -\n",
        "NumPy arrays: Efficient, homogeneous, suitable for large datasets, and support advanced mathematical operations.\n",
        "Python lists: Flexible, easier to use for general tasks, support dynamic sizing, and can contain elements of different types."
      ],
      "metadata": {
        "id": "NaemiExOAHKw"
      }
    },
    {
      "cell_type": "markdown",
      "source": [
        "7.  What is a heatmap, and when should it be used?"
      ],
      "metadata": {
        "id": "PiGBLPfzAXPE"
      }
    },
    {
      "cell_type": "markdown",
      "source": [
        "ANS - A heatmap is a data visualization technique that represents data in a matrix form, where individual values are displayed as colors. The intensity or shade of the color typically indicates the magnitude of the value, making it easy to identify patterns, correlations, or outliers in the data."
      ],
      "metadata": {
        "id": "OFZRRKMUAczU"
      }
    },
    {
      "cell_type": "markdown",
      "source": [
        "8.  What does the term “vectorized operation” mean in NumPy?"
      ],
      "metadata": {
        "id": "55IpTmEzAnj2"
      }
    },
    {
      "cell_type": "markdown",
      "source": [
        "ANS - A vectorized operation in NumPy refers to performing operations on entire arrays (vectors) without writing explicit loops in your code. This is achieved by applying mathematical operations element-wise across the array using simple and concise syntax."
      ],
      "metadata": {
        "id": "V7sCkVVeAy1l"
      }
    },
    {
      "cell_type": "markdown",
      "source": [
        "9.  How does Matplotlib differ from Plotly?"
      ],
      "metadata": {
        "id": "7iN3u8Q_A1kl"
      }
    },
    {
      "cell_type": "markdown",
      "source": [
        "ANS - Matplotlib: Best for static, publication-quality plots with fine-grained control. Suitable for detailed customization and traditional 2D/3D plots.\n",
        "\n",
        "Plotly: Best for interactive, web-based visualizations with a user-friendly interface. Ideal for creating dynamic and visually engaging plots."
      ],
      "metadata": {
        "id": "q5sjZEFqBC_U"
      }
    },
    {
      "cell_type": "markdown",
      "source": [
        "10.  What is the significance of hierarchical indexing in Pandas?"
      ],
      "metadata": {
        "id": "D3f0kGkkBKx7"
      }
    },
    {
      "cell_type": "markdown",
      "source": [
        "ANS - Hierarchical indexing (also known as multi-level indexing) in Pandas allows you to work with data at multiple levels of granularity, making it easier to handle and analyze complex datasets."
      ],
      "metadata": {
        "id": "uKBu4rcoBQrQ"
      }
    },
    {
      "cell_type": "markdown",
      "source": [
        "11.  What is the role of Seaborn’s pairplot() function?"
      ],
      "metadata": {
        "id": "YdwUkDSzBaJd"
      }
    },
    {
      "cell_type": "markdown",
      "source": [
        "ANS - Seaborn’s pairplot() function is a powerful tool for exploratory data analysis that creates a grid of scatter plots for each pair of features in a dataset, along with histograms or kernel density estimates (KDE) on the diagonal."
      ],
      "metadata": {
        "id": "63awSxjMBe-_"
      }
    },
    {
      "cell_type": "markdown",
      "source": [
        "12.  What is the purpose of the describe() function in Pandas?"
      ],
      "metadata": {
        "id": "MhY2jSE1Bs9Q"
      }
    },
    {
      "cell_type": "markdown",
      "source": [
        "ANS - The describe() function in Pandas is a handy tool that provides a quick summary of the main statistical measures for a given DataFrame or Series. It helps you understand the distribution and central tendency of your data at a glance."
      ],
      "metadata": {
        "id": "j3uOjkMDB0PR"
      }
    },
    {
      "cell_type": "markdown",
      "source": [
        "13.  Why is handling missing data important in Pandas?"
      ],
      "metadata": {
        "id": "23N4MYFqB7rm"
      }
    },
    {
      "cell_type": "markdown",
      "source": [
        "ANS - Handling missing data ensures that your dataset is accurate, reliable, and ready for analysis or machine learning tasks."
      ],
      "metadata": {
        "id": "BODNl3E0CCll"
      }
    },
    {
      "cell_type": "markdown",
      "source": [
        "14.  What are the benefits of using Plotly for data visualization?"
      ],
      "metadata": {
        "id": "Kc1jvD7bCRTj"
      }
    },
    {
      "cell_type": "markdown",
      "source": [
        "ANS - Plotly stands out for its ability to create interactive, visually appealing, and easily shareable visualizations with minimal effort. Its integration with other data analysis tools and extensive customization options make it a powerful choice for both exploratory data analysis and presentation-ready visuals."
      ],
      "metadata": {
        "id": "kn6mc5-ZCV3g"
      }
    },
    {
      "cell_type": "markdown",
      "source": [
        "15.  How does NumPy handle multidimensional arrays?"
      ],
      "metadata": {
        "id": "_hBbpVUtChpd"
      }
    },
    {
      "cell_type": "markdown",
      "source": [
        "ANS - NumPy handles multidimensional arrays through its powerful ndarray (N-dimensional array) class, which provides a framework for creating, manipulating, and performing operations on arrays of any dimension."
      ],
      "metadata": {
        "id": "qjZyOgKUCn6B"
      }
    },
    {
      "cell_type": "markdown",
      "source": [
        "16.  What is the role of Bokeh in data visualization?"
      ],
      "metadata": {
        "id": "PFRst74iCuDZ"
      }
    },
    {
      "cell_type": "markdown",
      "source": [
        "ANS - Bokeh is an interactive visualization library for Python that aims to provide elegant and concise graphics, targeted mainly at web browsers. It helps data scientists, analysts, and developers create interactive plots, dashboards, and data applications."
      ],
      "metadata": {
        "id": "3KHNjCuUC2p2"
      }
    },
    {
      "cell_type": "markdown",
      "source": [
        "17.  Explain the difference between apply() and map() in Pandas."
      ],
      "metadata": {
        "id": "ZGAfX7zdC-r8"
      }
    },
    {
      "cell_type": "markdown",
      "source": [
        "ANS - apply(): Used for more complex operations, works with both Series and DataFrames, and can apply functions row-wise or column-wise.\n",
        "\n",
        "map(): Used for simple element-wise transformations or mappings, works only with Series."
      ],
      "metadata": {
        "id": "I6Goh7EuDDK1"
      }
    },
    {
      "cell_type": "markdown",
      "source": [
        "18.  What are some advanced features of NumPy?"
      ],
      "metadata": {
        "id": "TeTKC_jvDOQD"
      }
    },
    {
      "cell_type": "markdown",
      "source": [
        "ANS - NumPy offers a wide range of advanced features that extend its functionality and efficiency, making it a powerful tool for numerical and scientific computing. Here are some of the advanced features of NumPy:\n",
        "1. Broadcasting\n",
        "2. Advanced Indexing and Slicing\n",
        "3. Universal Functions (ufuncs)\n",
        "4. Linear Algebra Routines\n",
        "5. Random Number Generation\n",
        "6. FFT (Fast Fourier Transform)\n",
        "7. Masked Arrays\n",
        "8. Memory-Mapped Files\n",
        "9. Structured Arrays and Record Arrays\n",
        "10. Integration with C/C++ and Fortran\n",
        "\n"
      ],
      "metadata": {
        "id": "ZKF_sMwIDUmz"
      }
    },
    {
      "cell_type": "markdown",
      "source": [
        "19.  How does Pandas simplify time series analysis?"
      ],
      "metadata": {
        "id": "p5YTr55rD2YO"
      }
    },
    {
      "cell_type": "markdown",
      "source": [
        "ANS - Pandas simplifies time series analysis by providing these robust and intuitive tools, enabling efficient handling, manipulation, and visualization of date and time data.\n",
        "\n",
        "DateTimeIndex: The index is set to a range of dates.\n",
        "\n",
        "Resampling: Data is resampled to a monthly frequency.\n",
        "\n",
        "Rolling Mean: A rolling mean with a window of 3 days is computed.\n",
        "\n",
        "Shift: Values are shifted by 1 day to create lagged data."
      ],
      "metadata": {
        "id": "T6wyZ-KZEINN"
      }
    },
    {
      "cell_type": "markdown",
      "source": [
        "20.  What is the role of a pivot table in Pandas?"
      ],
      "metadata": {
        "id": "WhiV9PSxEQb0"
      }
    },
    {
      "cell_type": "markdown",
      "source": [
        "ANS - Pivot tables in Pandas are a versatile and efficient way to summarize, reshape, and analyze data. They enable you to extract meaningful insights from your data by organizing it into a structured format and applying aggregate functions."
      ],
      "metadata": {
        "id": "smu7uG9mEZrN"
      }
    },
    {
      "cell_type": "markdown",
      "source": [
        "21.  Why is NumPy’s array slicing faster than Python’s list slicing?"
      ],
      "metadata": {
        "id": "CWDED3PWEjot"
      }
    },
    {
      "cell_type": "markdown",
      "source": [
        "ANS - NumPy’s array slicing is faster than Python’s list slicing for several reasons:\n",
        "\n",
        "1. Homogeneous Data Types\n",
        "2. Contiguous Memory Allocation\n",
        "3. Optimized Low-Level Implementation\n",
        "4. Vectorized Operations\n",
        "5. Avoidance of Type-Checking Overhead"
      ],
      "metadata": {
        "id": "cuqYReZDEppa"
      }
    },
    {
      "cell_type": "markdown",
      "source": [
        "22.  What are some common use cases for Seaborn?"
      ],
      "metadata": {
        "id": "ldG6ay8rFA2u"
      }
    },
    {
      "cell_type": "markdown",
      "source": [
        "ANS - Seaborn is a powerful visualization library in Python, built on top of Matplotlib, that makes it easy to create visually appealing and informative statistical graphics. Here are some common use cases for Seaborn:\n",
        "1. Exploratory Data Analysis (EDA)\n",
        "2. Visualizing Distributions\n",
        "3. Visualizing Relationships\n",
        "4. Categorical Data Visualization\n",
        "5. Heatmaps\n",
        "6. Pair Plots\n",
        "7. Regression Analysis"
      ],
      "metadata": {
        "id": "Bmrg67QhEuSL"
      }
    },
    {
      "cell_type": "code",
      "source": [],
      "metadata": {
        "id": "XsAsI8D9FjYw"
      },
      "execution_count": null,
      "outputs": []
    },
    {
      "cell_type": "code",
      "source": [],
      "metadata": {
        "id": "d4FC2H98FjdA"
      },
      "execution_count": null,
      "outputs": []
    },
    {
      "cell_type": "markdown",
      "source": [
        "PRACTICAL QUESTIONS"
      ],
      "metadata": {
        "id": "gbu1vUYSFjsL"
      }
    },
    {
      "cell_type": "code",
      "source": [],
      "metadata": {
        "id": "T0aW_KBlFnel"
      },
      "execution_count": null,
      "outputs": []
    },
    {
      "cell_type": "code",
      "source": [],
      "metadata": {
        "id": "EPWP2lzXFnhZ"
      },
      "execution_count": null,
      "outputs": []
    },
    {
      "cell_type": "markdown",
      "source": [
        "1.  How do you create a 2D NumPy array and calculate the sum of each row?"
      ],
      "metadata": {
        "id": "pbpxjJr6Fosl"
      }
    },
    {
      "cell_type": "code",
      "source": [
        "import numpy as np\n",
        "a = np.array([[1, 2, 3], [4, 5, 6], [7, 8, 9]])\n",
        "row_sums = np.sum(a, axis=1)\n",
        "print(row_sums)"
      ],
      "metadata": {
        "colab": {
          "base_uri": "https://localhost:8080/"
        },
        "id": "4tbpntxXF3Nc",
        "outputId": "f1e65bc4-4b88-40e9-f593-9c020034ba0a"
      },
      "execution_count": 1,
      "outputs": [
        {
          "output_type": "stream",
          "name": "stdout",
          "text": [
            "[ 6 15 24]\n"
          ]
        }
      ]
    },
    {
      "cell_type": "code",
      "source": [],
      "metadata": {
        "id": "IFDnoWqkLIfO"
      },
      "execution_count": null,
      "outputs": []
    },
    {
      "cell_type": "markdown",
      "source": [
        "2.  Write a Pandas script to find the mean of a specific column in a DataFrame."
      ],
      "metadata": {
        "id": "kJQHc062LSrk"
      }
    },
    {
      "cell_type": "code",
      "source": [
        "import pandas as pd\n",
        "df = pd.DataFrame({'A': [1, 2, 3, 4, 5], 'B': [5, 4, 3, 2, 1]})\n",
        "mean_value = df['A'].mean()\n",
        "print(mean_value)"
      ],
      "metadata": {
        "id": "207_SrSALVCf"
      },
      "execution_count": null,
      "outputs": []
    },
    {
      "cell_type": "markdown",
      "source": [
        "3.  Create a scatter plot using Matplotlib\n"
      ],
      "metadata": {
        "id": "2s3V74TyLgJX"
      }
    },
    {
      "cell_type": "code",
      "source": [
        "import pandas as pd\n",
        "import numpy as np\n",
        "import matplotlib.pyplot as plt\n",
        "x = np.random.rand(5)\n",
        "y = np.random.rand(5)\n",
        "plt.scatter(x, y)"
      ],
      "metadata": {
        "colab": {
          "base_uri": "https://localhost:8080/",
          "height": 447
        },
        "id": "9xuJvGfRLk13",
        "outputId": "ded76ec4-6692-409b-cf14-3e597da64d00"
      },
      "execution_count": 2,
      "outputs": [
        {
          "output_type": "execute_result",
          "data": {
            "text/plain": [
              "<matplotlib.collections.PathCollection at 0x78e4d01e4250>"
            ]
          },
          "metadata": {},
          "execution_count": 2
        },
        {
          "output_type": "display_data",
          "data": {
            "text/plain": [
              "<Figure size 640x480 with 1 Axes>"
            ],
            "image/png": "[encoded data removed]"
          },
          "metadata": {}
        }
      ]
    },
    {
      "cell_type": "code",
      "source": [],
      "metadata": {
        "id": "F733DeaeMJZW"
      },
      "execution_count": null,
      "outputs": []
    },
    {
      "cell_type": "markdown",
      "source": [
        "4.  How do you calculate the correlation matrix using Seaborn and visualize it with a heatmap?"
      ],
      "metadata": {
        "id": "RyYpp67XMQ73"
      }
    },
    {
      "cell_type": "code",
      "source": [
        "import seaborn as sns\n",
        "import pandas as pd\n",
        "import matplotlib.pyplot as plt\n",
        "tips = sns.load_dataset('tips')\n",
        "df = tips[['total_bill', 'tip', 'size']]\n",
        "df.corr()\n",
        "sns.heatmap(df.corr(), annot=True, cmap='coolwarm')\n",
        "plt.show()\n"
      ],
      "metadata": {
        "colab": {
          "base_uri": "https://localhost:8080/",
          "height": 435
        },
        "id": "G-i3cZQyMa1f",
        "outputId": "9c533b65-20ad-47cb-f9a8-dcb18b88ee9f"
      },
      "execution_count": 8,
      "outputs": [
        {
          "output_type": "display_data",
          "data": {
            "text/plain": [
              "<Figure size 640x480 with 2 Axes>"
            ],
            "image/png": "[encoded data removed]"
          },
          "metadata": {}
        }
      ]
    },
    {
      "cell_type": "code",
      "source": [],
      "metadata": {
        "id": "G7_XR2AuNkig"
      },
      "execution_count": null,
      "outputs": []
    },
    {
      "cell_type": "markdown",
      "source": [
        "5.  Generate a bar plot using Plotly."
      ],
      "metadata": {
        "id": "9tG3555UPd_n"
      }
    },
    {
      "cell_type": "code",
      "source": [
        "import pandas as pd\n",
        "import numpy as np\n",
        "import matplotlib.pyplot as plt\n",
        "import seaborn as sns\n",
        "\n",
        "import warnings\n",
        "warnings.filterwarnings(\"ignore\")\n",
        "import plotly.graph_objects as go\n",
        "\n",
        "fig = go.Figure()\n",
        "fig.add_trace(go.Bar(x = [1, 2, 3, 4, 5], y = [3, 8, 5, 2, 6]))"
      ],
      "metadata": {
        "colab": {
          "base_uri": "https://localhost:8080/",
          "height": 542
        },
        "id": "bAuwtEU-PlBX",
        "outputId": "01711a5d-9adc-4520-a01f-82861dc045b6"
      },
      "execution_count": 9,
      "outputs": [
        {
          "output_type": "display_data",
          "data": {
            "text/html": [
              "<html>\n",
              "<head><meta charset=\"utf-8\" /></head>\n",
              "<body>\n",
              "    <div>            <script src=\"https://cdnjs.cloudflare.com/ajax/libs/mathjax/2.7.5/MathJax.js?config=TeX-AMS-MML_SVG\"></script><script type=\"text/javascript\">if (window.MathJax && window.MathJax.Hub && window.MathJax.Hub.Config) {window.MathJax.Hub.Config({SVG: {font: \"STIX-Web\"}});}</script>                <script type=\"text/javascript\">window.PlotlyConfig = {MathJaxConfig: 'local'};</script>\n",
              "        <script charset=\"utf-8\" src=\"https://cdn.plot.ly/plotly-2.35.2.min.js\"></script>                <div id=\"9083bce8-e1dd-4e8c-9b3d-6197845c4e92\" class=\"plotly-graph-div\" style=\"height:525px; width:100%;\"></div>            <script type=\"text/javascript\">                                    window.PLOTLYENV=window.PLOTLYENV || {};                                    if (document.getElementById(\"9083bce8-e1dd-4e8c-9b3d-6197845c4e92\")) {                    Plotly.newPlot(                        \"9083bce8-e1dd-4e8c-9b3d-6197845c4e92\",                        [{\"x\":[1,2,3,4,5],\"y\":[3,8,5,2,6],\"type\":\"bar\"}],                        {\"template\":{\"data\":{\"histogram2dcontour\":[{\"type\":\"histogram2dcontour\",\"colorbar\":{\"outlinewidth\":0,\"ticks\":\"\"},\"colorscale\":[[0.0,\"#0d0887\"],[0.1111111111111111,\"#46039f\"],[0.2222222222222222,\"#7201a8\"],[0.3333333333333333,\"#9c179e\"],[0.4444444444444444,\"#bd3786\"],[0.5555555555555556,\"#d8576b\"],[0.6666666666666666,\"#ed7953\"],[0.7777777777777778,\"#fb9f3a\"],[0.8888888888888888,\"#fdca26\"],[1.0,\"#f0f921\"]]}],\"choropleth\":[{\"type\":\"choropleth\",\"colorbar\":{\"outlinewidth\":0,\"ticks\":\"\"}}],\"histogram2d\":[{\"type\":\"histogram2d\",\"colorbar\":{\"outlinewidth\":0,\"ticks\":\"\"},\"colorscale\":[[0.0,\"#0d0887\"],[0.1111111111111111,\"#46039f\"],[0.2222222222222222,\"#7201a8\"],[0.3333333333333333,\"#9c179e\"],[0.4444444444444444,\"#bd3786\"],[0.5555555555555556,\"#d8576b\"],[0.6666666666666666,\"#ed7953\"],[0.7777777777777778,\"#fb9f3a\"],[0.8888888888888888,\"#fdca26\"],[1.0,\"#f0f921\"]]}],\"heatmap\":[{\"type\":\"heatmap\",\"colorbar\":{\"outlinewidth\":0,\"ticks\":\"\"},\"colorscale\":[[0.0,\"#0d0887\"],[0.1111111111111111,\"#46039f\"],[0.2222222222222222,\"#7201a8\"],[0.3333333333333333,\"#9c179e\"],[0.4444444444444444,\"#bd3786\"],[0.5555555555555556,\"#d8576b\"],[0.6666666666666666,\"#ed7953\"],[0.7777777777777778,\"#fb9f3a\"],[0.8888888888888888,\"#fdca26\"],[1.0,\"#f0f921\"]]}],\"heatmapgl\":[{\"type\":\"heatmapgl\",\"colorbar\":{\"outlinewidth\":0,\"ticks\":\"\"},\"colorscale\":[[0.0,\"#0d0887\"],[0.1111111111111111,\"#46039f\"],[0.2222222222222222,\"#7201a8\"],[0.3333333333333333,\"#9c179e\"],[0.4444444444444444,\"#bd3786\"],[0.5555555555555556,\"#d8576b\"],[0.6666666666666666,\"#ed7953\"],[0.7777777777777778,\"#fb9f3a\"],[0.8888888888888888,\"#fdca26\"],[1.0,\"#f0f921\"]]}],\"contourcarpet\":[{\"type\":\"contourcarpet\",\"colorbar\":{\"outlinewidth\":0,\"ticks\":\"\"}}],\"contour\":[{\"type\":\"contour\",\"colorbar\":{\"outlinewidth\":0,\"ticks\":\"\"},\"colorscale\":[[0.0,\"#0d0887\"],[0.1111111111111111,\"#46039f\"],[0.2222222222222222,\"#7201a8\"],[0.3333333333333333,\"#9c179e\"],[0.4444444444444444,\"#bd3786\"],[0.5555555555555556,\"#d8576b\"],[0.6666666666666666,\"#ed7953\"],[0.7777777777777778,\"#fb9f3a\"],[0.8888888888888888,\"#fdca26\"],[1.0,\"#f0f921\"]]}],\"surface\":[{\"type\":\"surface\",\"colorbar\":{\"outlinewidth\":0,\"ticks\":\"\"},\"colorscale\":[[0.0,\"#0d0887\"],[0.1111111111111111,\"#46039f\"],[0.2222222222222222,\"#7201a8\"],[0.3333333333333333,\"#9c179e\"],[0.4444444444444444,\"#bd3786\"],[0.5555555555555556,\"#d8576b\"],[0.6666666666666666,\"#ed7953\"],[0.7777777777777778,\"#fb9f3a\"],[0.8888888888888888,\"#fdca26\"],[1.0,\"#f0f921\"]]}],\"mesh3d\":[{\"type\":\"mesh3d\",\"colorbar\":{\"outlinewidth\":0,\"ticks\":\"\"}}],\"scatter\":[{\"fillpattern\":{\"fillmode\":\"overlay\",\"size\":10,\"solidity\":0.2},\"type\":\"scatter\"}],\"parcoords\":[{\"type\":\"parcoords\",\"line\":{\"colorbar\":{\"outlinewidth\":0,\"ticks\":\"\"}}}],\"scatterpolargl\":[{\"type\":\"scatterpolargl\",\"marker\":{\"colorbar\":{\"outlinewidth\":0,\"ticks\":\"\"}}}],\"bar\":[{\"error_x\":{\"color\":\"#2a3f5f\"},\"error_y\":{\"color\":\"#2a3f5f\"},\"marker\":{\"line\":{\"color\":\"#E5ECF6\",\"width\":0.5},\"pattern\":{\"fillmode\":\"overlay\",\"size\":10,\"solidity\":0.2}},\"type\":\"bar\"}],\"scattergeo\":[{\"type\":\"scattergeo\",\"marker\":{\"colorbar\":{\"outlinewidth\":0,\"ticks\":\"\"}}}],\"scatterpolar\":[{\"type\":\"scatterpolar\",\"marker\":{\"colorbar\":{\"outlinewidth\":0,\"ticks\":\"\"}}}],\"histogram\":[{\"marker\":{\"pattern\":{\"fillmode\":\"overlay\",\"size\":10,\"solidity\":0.2}},\"type\":\"histogram\"}],\"scattergl\":[{\"type\":\"scattergl\",\"marker\":{\"colorbar\":{\"outlinewidth\":0,\"ticks\":\"\"}}}],\"scatter3d\":[{\"type\":\"scatter3d\",\"line\":{\"colorbar\":{\"outlinewidth\":0,\"ticks\":\"\"}},\"marker\":{\"colorbar\":{\"outlinewidth\":0,\"ticks\":\"\"}}}],\"scattermapbox\":[{\"type\":\"scattermapbox\",\"marker\":{\"colorbar\":{\"outlinewidth\":0,\"ticks\":\"\"}}}],\"scatterternary\":[{\"type\":\"scatterternary\",\"marker\":{\"colorbar\":{\"outlinewidth\":0,\"ticks\":\"\"}}}],\"scattercarpet\":[{\"type\":\"scattercarpet\",\"marker\":{\"colorbar\":{\"outlinewidth\":0,\"ticks\":\"\"}}}],\"carpet\":[{\"aaxis\":{\"endlinecolor\":\"#2a3f5f\",\"gridcolor\":\"white\",\"linecolor\":\"white\",\"minorgridcolor\":\"white\",\"startlinecolor\":\"#2a3f5f\"},\"baxis\":{\"endlinecolor\":\"#2a3f5f\",\"gridcolor\":\"white\",\"linecolor\":\"white\",\"minorgridcolor\":\"white\",\"startlinecolor\":\"#2a3f5f\"},\"type\":\"carpet\"}],\"table\":[{\"cells\":{\"fill\":{\"color\":\"#EBF0F8\"},\"line\":{\"color\":\"white\"}},\"header\":{\"fill\":{\"color\":\"#C8D4E3\"},\"line\":{\"color\":\"white\"}},\"type\":\"table\"}],\"barpolar\":[{\"marker\":{\"line\":{\"color\":\"#E5ECF6\",\"width\":0.5},\"pattern\":{\"fillmode\":\"overlay\",\"size\":10,\"solidity\":0.2}},\"type\":\"barpolar\"}],\"pie\":[{\"automargin\":true,\"type\":\"pie\"}]},\"layout\":{\"autotypenumbers\":\"strict\",\"colorway\":[\"#636efa\",\"#EF553B\",\"#00cc96\",\"#ab63fa\",\"#FFA15A\",\"#19d3f3\",\"#FF6692\",\"#B6E880\",\"#FF97FF\",\"#FECB52\"],\"font\":{\"color\":\"#2a3f5f\"},\"hovermode\":\"closest\",\"hoverlabel\":{\"align\":\"left\"},\"paper_bgcolor\":\"white\",\"plot_bgcolor\":\"#E5ECF6\",\"polar\":{\"bgcolor\":\"#E5ECF6\",\"angularaxis\":{\"gridcolor\":\"white\",\"linecolor\":\"white\",\"ticks\":\"\"},\"radialaxis\":{\"gridcolor\":\"white\",\"linecolor\":\"white\",\"ticks\":\"\"}},\"ternary\":{\"bgcolor\":\"#E5ECF6\",\"aaxis\":{\"gridcolor\":\"white\",\"linecolor\":\"white\",\"ticks\":\"\"},\"baxis\":{\"gridcolor\":\"white\",\"linecolor\":\"white\",\"ticks\":\"\"},\"caxis\":{\"gridcolor\":\"white\",\"linecolor\":\"white\",\"ticks\":\"\"}},\"coloraxis\":{\"colorbar\":{\"outlinewidth\":0,\"ticks\":\"\"}},\"colorscale\":{\"sequential\":[[0.0,\"#0d0887\"],[0.1111111111111111,\"#46039f\"],[0.2222222222222222,\"#7201a8\"],[0.3333333333333333,\"#9c179e\"],[0.4444444444444444,\"#bd3786\"],[0.5555555555555556,\"#d8576b\"],[0.6666666666666666,\"#ed7953\"],[0.7777777777777778,\"#fb9f3a\"],[0.8888888888888888,\"#fdca26\"],[1.0,\"#f0f921\"]],\"sequentialminus\":[[0.0,\"#0d0887\"],[0.1111111111111111,\"#46039f\"],[0.2222222222222222,\"#7201a8\"],[0.3333333333333333,\"#9c179e\"],[0.4444444444444444,\"#bd3786\"],[0.5555555555555556,\"#d8576b\"],[0.6666666666666666,\"#ed7953\"],[0.7777777777777778,\"#fb9f3a\"],[0.8888888888888888,\"#fdca26\"],[1.0,\"#f0f921\"]],\"diverging\":[[0,\"#8e0152\"],[0.1,\"#c51b7d\"],[0.2,\"#de77ae\"],[0.3,\"#f1b6da\"],[0.4,\"#fde0ef\"],[0.5,\"#f7f7f7\"],[0.6,\"#e6f5d0\"],[0.7,\"#b8e186\"],[0.8,\"#7fbc41\"],[0.9,\"#4d9221\"],[1,\"#276419\"]]},\"xaxis\":{\"gridcolor\":\"white\",\"linecolor\":\"white\",\"ticks\":\"\",\"title\":{\"standoff\":15},\"zerolinecolor\":\"white\",\"automargin\":true,\"zerolinewidth\":2},\"yaxis\":{\"gridcolor\":\"white\",\"linecolor\":\"white\",\"ticks\":\"\",\"title\":{\"standoff\":15},\"zerolinecolor\":\"white\",\"automargin\":true,\"zerolinewidth\":2},\"scene\":{\"xaxis\":{\"backgroundcolor\":\"#E5ECF6\",\"gridcolor\":\"white\",\"linecolor\":\"white\",\"showbackground\":true,\"ticks\":\"\",\"zerolinecolor\":\"white\",\"gridwidth\":2},\"yaxis\":{\"backgroundcolor\":\"#E5ECF6\",\"gridcolor\":\"white\",\"linecolor\":\"white\",\"showbackground\":true,\"ticks\":\"\",\"zerolinecolor\":\"white\",\"gridwidth\":2},\"zaxis\":{\"backgroundcolor\":\"#E5ECF6\",\"gridcolor\":\"white\",\"linecolor\":\"white\",\"showbackground\":true,\"ticks\":\"\",\"zerolinecolor\":\"white\",\"gridwidth\":2}},\"shapedefaults\":{\"line\":{\"color\":\"#2a3f5f\"}},\"annotationdefaults\":{\"arrowcolor\":\"#2a3f5f\",\"arrowhead\":0,\"arrowwidth\":1},\"geo\":{\"bgcolor\":\"white\",\"landcolor\":\"#E5ECF6\",\"subunitcolor\":\"white\",\"showland\":true,\"showlakes\":true,\"lakecolor\":\"white\"},\"title\":{\"x\":0.05},\"mapbox\":{\"style\":\"light\"}}}},                        {\"responsive\": true}                    ).then(function(){\n",
              "                            \n",
              "var gd = document.getElementById('9083bce8-e1dd-4e8c-9b3d-6197845c4e92');\n",
              "var x = new MutationObserver(function (mutations, observer) {{\n",
              "        var display = window.getComputedStyle(gd).display;\n",
              "        if (!display || display === 'none') {{\n",
              "            console.log([gd, 'removed!']);\n",
              "            Plotly.purge(gd);\n",
              "            observer.disconnect();\n",
              "        }}\n",
              "}});\n",
              "\n",
              "// Listen for the removal of the full notebook cells\n",
              "var notebookContainer = gd.closest('#notebook-container');\n",
              "if (notebookContainer) {{\n",
              "    x.observe(notebookContainer, {childList: true});\n",
              "}}\n",
              "\n",
              "// Listen for the clearing of the current output cell\n",
              "var outputEl = gd.closest('.output');\n",
              "if (outputEl) {{\n",
              "    x.observe(outputEl, {childList: true});\n",
              "}}\n",
              "\n",
              "                        })                };                            </script>        </div>\n",
              "</body>\n",
              "</html>"
            ]
          },
          "metadata": {}
        }
      ]
    },
    {
      "cell_type": "code",
      "source": [],
      "metadata": {
        "id": "G4_IFseGQcwj"
      },
      "execution_count": null,
      "outputs": []
    },
    {
      "cell_type": "markdown",
      "source": [
        "6.  Create a DataFrame and add a new column based on an existing column."
      ],
      "metadata": {
        "id": "Nep019FeQhK7"
      }
    },
    {
      "cell_type": "code",
      "source": [
        "import pandas as pd\n",
        "data = {'Salary': [70000, 80000, 90000]}\n",
        "df = pd.DataFrame(data)\n",
        "df['Bonus'] = df['Salary'] * 0.1\n",
        "print(df)"
      ],
      "metadata": {
        "colab": {
          "base_uri": "https://localhost:8080/"
        },
        "id": "VXhGa1WfT42z",
        "outputId": "fac2ad15-c983-43ce-f356-8c2952cde4fd"
      },
      "execution_count": 23,
      "outputs": [
        {
          "output_type": "stream",
          "name": "stdout",
          "text": [
            "   Salary   Bonus\n",
            "0   70000  7000.0\n",
            "1   80000  8000.0\n",
            "2   90000  9000.0\n"
          ]
        }
      ]
    },
    {
      "cell_type": "code",
      "source": [],
      "metadata": {
        "id": "k33BH4vMUkp5"
      },
      "execution_count": 15,
      "outputs": []
    },
    {
      "cell_type": "markdown",
      "source": [
        "7.  Write a program to perform element-wise multiplication of two NumPy arrays."
      ],
      "metadata": {
        "id": "NnDlRpnkXDjH"
      }
    },
    {
      "cell_type": "code",
      "source": [
        "import numpy as np\n",
        "array1 = np.array([1, 2, 3, 4, 5])\n",
        "array2 = np.array([10, 20, 30, 40, 50])\n",
        "result = array1 * array2\n",
        "print(\"Array 1:\", array1)\n",
        "print(\"Array 2:\", array2)\n",
        "print(\"Result of element-wise multiplication:\", result)\n"
      ],
      "metadata": {
        "colab": {
          "base_uri": "https://localhost:8080/"
        },
        "id": "hl4VwpVwXJNB",
        "outputId": "6221c807-7fc6-46bf-9228-78d0f8244b6e"
      },
      "execution_count": 24,
      "outputs": [
        {
          "output_type": "stream",
          "name": "stdout",
          "text": [
            "Array 1: [1 2 3 4 5]\n",
            "Array 2: [10 20 30 40 50]\n",
            "Result of element-wise multiplication: [ 10  40  90 160 250]\n"
          ]
        }
      ]
    },
    {
      "cell_type": "code",
      "source": [],
      "metadata": {
        "id": "MSfduLLsXTRm"
      },
      "execution_count": null,
      "outputs": []
    },
    {
      "cell_type": "markdown",
      "source": [
        "8.  Create a line plot with multiple lines using Matplotlib"
      ],
      "metadata": {
        "id": "qiGRHTbxXWSH"
      }
    },
    {
      "cell_type": "code",
      "source": [
        "import matplotlib.pyplot as plt\n",
        "x = [0, 1, 2, 3, 4, 5]\n",
        "y1 = [0, 1, 4, 9, 16, 25]\n",
        "y2 = [0, 1, 2, 3, 4, 5]\n",
        "y3 = [0, -1, -4, -9, -16, -25]\n",
        "plt.plot(x, y1, label='y = x^2', marker='o')\n",
        "plt.plot(x, y2, label='y = x', marker='s')\n",
        "plt.plot(x, y3, label='y = -x^2', marker='d')\n",
        "plt.title('Line Plot with Multiple Lines')\n",
        "plt.xlabel('X-axis')\n",
        "plt.ylabel('Y-axis')\n",
        "plt.legend()\n",
        "plt.show()\n"
      ],
      "metadata": {
        "colab": {
          "base_uri": "https://localhost:8080/",
          "height": 472
        },
        "id": "VyDkKarwXjTd",
        "outputId": "e3a5cc86-0139-49a9-a40b-c9ea2f13745a"
      },
      "execution_count": 25,
      "outputs": [
        {
          "output_type": "display_data",
          "data": {
            "text/plain": [
              "<Figure size 640x480 with 1 Axes>"
            ],
            "image/png": "[encoded data removed]"
          },
          "metadata": {}
        }
      ]
    },
    {
      "cell_type": "code",
      "source": [],
      "metadata": {
        "id": "j0B7cWfnXqJ-"
      },
      "execution_count": null,
      "outputs": []
    },
    {
      "cell_type": "markdown",
      "source": [
        "9. Generate a Pandas DataFrame and filter rows where a column value is greater than a threshold."
      ],
      "metadata": {
        "id": "wgFIYsqtXu7D"
      }
    },
    {
      "cell_type": "code",
      "source": [
        "import pandas as pd\n",
        "\n",
        "data = {\n",
        "    'Name': ['Alice', 'Bob', 'Charlie', 'David', 'Eva'],\n",
        "    'Age': [25, 30, 35, 40, 45],\n",
        "    'Salary': [70000, 80000, 90000, 60000, 95000]\n",
        "}\n",
        "\n",
        "df = pd.DataFrame(data)\n",
        "\n",
        "threshold = 75000\n",
        "filtered_df = df[df['Salary'] > threshold]\n",
        "\n",
        "print(\"Original DataFrame:\")\n",
        "print(df)\n",
        "print(\"\\nFiltered DataFrame (Salary > 75,000):\")\n",
        "print(filtered_df)\n"
      ],
      "metadata": {
        "colab": {
          "base_uri": "https://localhost:8080/"
        },
        "id": "BkdVRETkX1bz",
        "outputId": "432f7008-1d59-43fa-ca5b-55339898aa6b"
      },
      "execution_count": 26,
      "outputs": [
        {
          "output_type": "stream",
          "name": "stdout",
          "text": [
            "Original DataFrame:\n",
            "      Name  Age  Salary\n",
            "0    Alice   25   70000\n",
            "1      Bob   30   80000\n",
            "2  Charlie   35   90000\n",
            "3    David   40   60000\n",
            "4      Eva   45   95000\n",
            "\n",
            "Filtered DataFrame (Salary > 75,000):\n",
            "      Name  Age  Salary\n",
            "1      Bob   30   80000\n",
            "2  Charlie   35   90000\n",
            "4      Eva   45   95000\n"
          ]
        }
      ]
    },
    {
      "cell_type": "code",
      "source": [],
      "metadata": {
        "id": "0d25NylyX-tT"
      },
      "execution_count": null,
      "outputs": []
    },
    {
      "cell_type": "markdown",
      "source": [
        "10.Create a histogram using Seaborn to visualize a distribution."
      ],
      "metadata": {
        "id": "PNWxEc8bYD5J"
      }
    },
    {
      "cell_type": "code",
      "source": [
        "import seaborn as sns\n",
        "import numpy as np\n",
        "import matplotlib.pyplot as plt\n",
        "\n",
        "data = np.random.randn(1000)\n",
        "\n",
        "sns.histplot(data, kde=True)\n",
        "\n",
        "plt.title('Histogram of Sample Data')\n",
        "plt.xlabel('Value')\n",
        "plt.ylabel('Frequency')\n",
        "\n",
        "plt.show()\n"
      ],
      "metadata": {
        "colab": {
          "base_uri": "https://localhost:8080/",
          "height": 472
        },
        "id": "qnmRB2LyYI-T",
        "outputId": "2ed479d8-3f4e-4e78-dce2-1f110ad170b6"
      },
      "execution_count": 27,
      "outputs": [
        {
          "output_type": "display_data",
          "data": {
            "text/plain": [
              "<Figure size 640x480 with 1 Axes>"
            ],
            "image/png": "[encoded data removed]"
          },
          "metadata": {}
        }
      ]
    },
    {
      "cell_type": "code",
      "source": [],
      "metadata": {
        "id": "Hh44hTizYSDl"
      },
      "execution_count": null,
      "outputs": []
    },
    {
      "cell_type": "markdown",
      "source": [
        "11.  Perform matrix multiplication using NumPy."
      ],
      "metadata": {
        "id": "D7v7ZdquYaMx"
      }
    },
    {
      "cell_type": "code",
      "source": [
        "import numpy as np\n",
        "\n",
        "matrix1 = np.array([[1, 2, 3],\n",
        "                    [4, 5, 6]])\n",
        "\n",
        "matrix2 = np.array([[7, 8],\n",
        "                    [9, 10],\n",
        "                    [11, 12]])\n",
        "\n",
        "result = np.dot(matrix1, matrix2)\n",
        "\n",
        "print(\"Matrix 1:\")\n",
        "print(matrix1)\n",
        "print(\"\\nMatrix 2:\")\n",
        "print(matrix2)\n",
        "print(\"\\nResult of matrix multiplication:\")\n",
        "print(result)\n"
      ],
      "metadata": {
        "colab": {
          "base_uri": "https://localhost:8080/"
        },
        "id": "Pt5mQZj4Yc6F",
        "outputId": "ec4a9c19-7519-441d-b647-3872b7b4898c"
      },
      "execution_count": 28,
      "outputs": [
        {
          "output_type": "stream",
          "name": "stdout",
          "text": [
            "Matrix 1:\n",
            "[[1 2 3]\n",
            " [4 5 6]]\n",
            "\n",
            "Matrix 2:\n",
            "[[ 7  8]\n",
            " [ 9 10]\n",
            " [11 12]]\n",
            "\n",
            "Result of matrix multiplication:\n",
            "[[ 58  64]\n",
            " [139 154]]\n"
          ]
        }
      ]
    },
    {
      "cell_type": "code",
      "source": [],
      "metadata": {
        "id": "X7aE22omYl5s"
      },
      "execution_count": null,
      "outputs": []
    },
    {
      "cell_type": "markdown",
      "source": [
        "12.  Use Pandas to load a CSV file and display its first 5 rows."
      ],
      "metadata": {
        "id": "dvA_25F9Yv_C"
      }
    },
    {
      "cell_type": "code",
      "source": [
        "import pandas as pd\n",
        "\n",
        "df = pd.read_csv('your_file.csv')\n",
        "\n",
        "print(df.head())\n"
      ],
      "metadata": {
        "id": "pGig9tFUY8Mg"
      },
      "execution_count": null,
      "outputs": []
    },
    {
      "cell_type": "markdown",
      "source": [
        "13.  Create a 3D scatter plot using Plotly."
      ],
      "metadata": {
        "id": "SxqVxxNJZDnp"
      }
    },
    {
      "cell_type": "code",
      "source": [
        "import plotly.graph_objects as go\n",
        "\n",
        "# Sample data\n",
        "x = [1, 2, 3, 4, 5]\n",
        "y = [10, 11, 12, 13, 14]\n",
        "z = [5, 6, 7, 8, 9]\n",
        "\n",
        "\n",
        "fig = go.Figure(data=[go.Scatter3d(\n",
        "    x=x,\n",
        "    y=y,\n",
        "    z=z,\n",
        "    mode='markers',\n",
        "    marker=dict(\n",
        "        size=10,\n",
        "        color=z,\n",
        "        colorscale='Viridis',\n",
        "        opacity=0.8\n",
        "    )\n",
        ")])\n",
        "\n",
        "fig.update_layout(\n",
        "    title='3D Scatter Plot',\n",
        "    scene=dict(\n",
        "        xaxis_title='X-axis',\n",
        "        yaxis_title='Y-axis',\n",
        "        zaxis_title='Z-axis'\n",
        "    )\n",
        ")\n",
        "\n",
        "\n",
        "fig.show()\n"
      ],
      "metadata": {
        "colab": {
          "base_uri": "https://localhost:8080/",
          "height": 542
        },
        "id": "5SnKNfZZZG9z",
        "outputId": "3c498088-733c-4294-caf3-7b36506e20da"
      },
      "execution_count": 29,
      "outputs": [
        {
          "output_type": "display_data",
          "data": {
            "text/html": [
              "<html>\n",
              "<head><meta charset=\"utf-8\" /></head>\n",
              "<body>\n",
              "    <div>            <script src=\"https://cdnjs.cloudflare.com/ajax/libs/mathjax/2.7.5/MathJax.js?config=TeX-AMS-MML_SVG\"></script><script type=\"text/javascript\">if (window.MathJax && window.MathJax.Hub && window.MathJax.Hub.Config) {window.MathJax.Hub.Config({SVG: {font: \"STIX-Web\"}});}</script>                <script type=\"text/javascript\">window.PlotlyConfig = {MathJaxConfig: 'local'};</script>\n",
              "        <script charset=\"utf-8\" src=\"https://cdn.plot.ly/plotly-2.35.2.min.js\"></script>                <div id=\"e39c26b3-2913-452d-a531-198c38f672da\" class=\"plotly-graph-div\" style=\"height:525px; width:100%;\"></div>            <script type=\"text/javascript\">                                    window.PLOTLYENV=window.PLOTLYENV || {};                                    if (document.getElementById(\"e39c26b3-2913-452d-a531-198c38f672da\")) {                    Plotly.newPlot(                        \"e39c26b3-2913-452d-a531-198c38f672da\",                        [{\"marker\":{\"color\":[5,6,7,8,9],\"colorscale\":[[0.0,\"#440154\"],[0.1111111111111111,\"#482878\"],[0.2222222222222222,\"#3e4989\"],[0.3333333333333333,\"#31688e\"],[0.4444444444444444,\"#26828e\"],[0.5555555555555556,\"#1f9e89\"],[0.6666666666666666,\"#35b779\"],[0.7777777777777778,\"#6ece58\"],[0.8888888888888888,\"#b5de2b\"],[1.0,\"#fde725\"]],\"opacity\":0.8,\"size\":10},\"mode\":\"markers\",\"x\":[1,2,3,4,5],\"y\":[10,11,12,13,14],\"z\":[5,6,7,8,9],\"type\":\"scatter3d\"}],                        {\"template\":{\"data\":{\"histogram2dcontour\":[{\"type\":\"histogram2dcontour\",\"colorbar\":{\"outlinewidth\":0,\"ticks\":\"\"},\"colorscale\":[[0.0,\"#0d0887\"],[0.1111111111111111,\"#46039f\"],[0.2222222222222222,\"#7201a8\"],[0.3333333333333333,\"#9c179e\"],[0.4444444444444444,\"#bd3786\"],[0.5555555555555556,\"#d8576b\"],[0.6666666666666666,\"#ed7953\"],[0.7777777777777778,\"#fb9f3a\"],[0.8888888888888888,\"#fdca26\"],[1.0,\"#f0f921\"]]}],\"choropleth\":[{\"type\":\"choropleth\",\"colorbar\":{\"outlinewidth\":0,\"ticks\":\"\"}}],\"histogram2d\":[{\"type\":\"histogram2d\",\"colorbar\":{\"outlinewidth\":0,\"ticks\":\"\"},\"colorscale\":[[0.0,\"#0d0887\"],[0.1111111111111111,\"#46039f\"],[0.2222222222222222,\"#7201a8\"],[0.3333333333333333,\"#9c179e\"],[0.4444444444444444,\"#bd3786\"],[0.5555555555555556,\"#d8576b\"],[0.6666666666666666,\"#ed7953\"],[0.7777777777777778,\"#fb9f3a\"],[0.8888888888888888,\"#fdca26\"],[1.0,\"#f0f921\"]]}],\"heatmap\":[{\"type\":\"heatmap\",\"colorbar\":{\"outlinewidth\":0,\"ticks\":\"\"},\"colorscale\":[[0.0,\"#0d0887\"],[0.1111111111111111,\"#46039f\"],[0.2222222222222222,\"#7201a8\"],[0.3333333333333333,\"#9c179e\"],[0.4444444444444444,\"#bd3786\"],[0.5555555555555556,\"#d8576b\"],[0.6666666666666666,\"#ed7953\"],[0.7777777777777778,\"#fb9f3a\"],[0.8888888888888888,\"#fdca26\"],[1.0,\"#f0f921\"]]}],\"heatmapgl\":[{\"type\":\"heatmapgl\",\"colorbar\":{\"outlinewidth\":0,\"ticks\":\"\"},\"colorscale\":[[0.0,\"#0d0887\"],[0.1111111111111111,\"#46039f\"],[0.2222222222222222,\"#7201a8\"],[0.3333333333333333,\"#9c179e\"],[0.4444444444444444,\"#bd3786\"],[0.5555555555555556,\"#d8576b\"],[0.6666666666666666,\"#ed7953\"],[0.7777777777777778,\"#fb9f3a\"],[0.8888888888888888,\"#fdca26\"],[1.0,\"#f0f921\"]]}],\"contourcarpet\":[{\"type\":\"contourcarpet\",\"colorbar\":{\"outlinewidth\":0,\"ticks\":\"\"}}],\"contour\":[{\"type\":\"contour\",\"colorbar\":{\"outlinewidth\":0,\"ticks\":\"\"},\"colorscale\":[[0.0,\"#0d0887\"],[0.1111111111111111,\"#46039f\"],[0.2222222222222222,\"#7201a8\"],[0.3333333333333333,\"#9c179e\"],[0.4444444444444444,\"#bd3786\"],[0.5555555555555556,\"#d8576b\"],[0.6666666666666666,\"#ed7953\"],[0.7777777777777778,\"#fb9f3a\"],[0.8888888888888888,\"#fdca26\"],[1.0,\"#f0f921\"]]}],\"surface\":[{\"type\":\"surface\",\"colorbar\":{\"outlinewidth\":0,\"ticks\":\"\"},\"colorscale\":[[0.0,\"#0d0887\"],[0.1111111111111111,\"#46039f\"],[0.2222222222222222,\"#7201a8\"],[0.3333333333333333,\"#9c179e\"],[0.4444444444444444,\"#bd3786\"],[0.5555555555555556,\"#d8576b\"],[0.6666666666666666,\"#ed7953\"],[0.7777777777777778,\"#fb9f3a\"],[0.8888888888888888,\"#fdca26\"],[1.0,\"#f0f921\"]]}],\"mesh3d\":[{\"type\":\"mesh3d\",\"colorbar\":{\"outlinewidth\":0,\"ticks\":\"\"}}],\"scatter\":[{\"fillpattern\":{\"fillmode\":\"overlay\",\"size\":10,\"solidity\":0.2},\"type\":\"scatter\"}],\"parcoords\":[{\"type\":\"parcoords\",\"line\":{\"colorbar\":{\"outlinewidth\":0,\"ticks\":\"\"}}}],\"scatterpolargl\":[{\"type\":\"scatterpolargl\",\"marker\":{\"colorbar\":{\"outlinewidth\":0,\"ticks\":\"\"}}}],\"bar\":[{\"error_x\":{\"color\":\"#2a3f5f\"},\"error_y\":{\"color\":\"#2a3f5f\"},\"marker\":{\"line\":{\"color\":\"#E5ECF6\",\"width\":0.5},\"pattern\":{\"fillmode\":\"overlay\",\"size\":10,\"solidity\":0.2}},\"type\":\"bar\"}],\"scattergeo\":[{\"type\":\"scattergeo\",\"marker\":{\"colorbar\":{\"outlinewidth\":0,\"ticks\":\"\"}}}],\"scatterpolar\":[{\"type\":\"scatterpolar\",\"marker\":{\"colorbar\":{\"outlinewidth\":0,\"ticks\":\"\"}}}],\"histogram\":[{\"marker\":{\"pattern\":{\"fillmode\":\"overlay\",\"size\":10,\"solidity\":0.2}},\"type\":\"histogram\"}],\"scattergl\":[{\"type\":\"scattergl\",\"marker\":{\"colorbar\":{\"outlinewidth\":0,\"ticks\":\"\"}}}],\"scatter3d\":[{\"type\":\"scatter3d\",\"line\":{\"colorbar\":{\"outlinewidth\":0,\"ticks\":\"\"}},\"marker\":{\"colorbar\":{\"outlinewidth\":0,\"ticks\":\"\"}}}],\"scattermapbox\":[{\"type\":\"scattermapbox\",\"marker\":{\"colorbar\":{\"outlinewidth\":0,\"ticks\":\"\"}}}],\"scatterternary\":[{\"type\":\"scatterternary\",\"marker\":{\"colorbar\":{\"outlinewidth\":0,\"ticks\":\"\"}}}],\"scattercarpet\":[{\"type\":\"scattercarpet\",\"marker\":{\"colorbar\":{\"outlinewidth\":0,\"ticks\":\"\"}}}],\"carpet\":[{\"aaxis\":{\"endlinecolor\":\"#2a3f5f\",\"gridcolor\":\"white\",\"linecolor\":\"white\",\"minorgridcolor\":\"white\",\"startlinecolor\":\"#2a3f5f\"},\"baxis\":{\"endlinecolor\":\"#2a3f5f\",\"gridcolor\":\"white\",\"linecolor\":\"white\",\"minorgridcolor\":\"white\",\"startlinecolor\":\"#2a3f5f\"},\"type\":\"carpet\"}],\"table\":[{\"cells\":{\"fill\":{\"color\":\"#EBF0F8\"},\"line\":{\"color\":\"white\"}},\"header\":{\"fill\":{\"color\":\"#C8D4E3\"},\"line\":{\"color\":\"white\"}},\"type\":\"table\"}],\"barpolar\":[{\"marker\":{\"line\":{\"color\":\"#E5ECF6\",\"width\":0.5},\"pattern\":{\"fillmode\":\"overlay\",\"size\":10,\"solidity\":0.2}},\"type\":\"barpolar\"}],\"pie\":[{\"automargin\":true,\"type\":\"pie\"}]},\"layout\":{\"autotypenumbers\":\"strict\",\"colorway\":[\"#636efa\",\"#EF553B\",\"#00cc96\",\"#ab63fa\",\"#FFA15A\",\"#19d3f3\",\"#FF6692\",\"#B6E880\",\"#FF97FF\",\"#FECB52\"],\"font\":{\"color\":\"#2a3f5f\"},\"hovermode\":\"closest\",\"hoverlabel\":{\"align\":\"left\"},\"paper_bgcolor\":\"white\",\"plot_bgcolor\":\"#E5ECF6\",\"polar\":{\"bgcolor\":\"#E5ECF6\",\"angularaxis\":{\"gridcolor\":\"white\",\"linecolor\":\"white\",\"ticks\":\"\"},\"radialaxis\":{\"gridcolor\":\"white\",\"linecolor\":\"white\",\"ticks\":\"\"}},\"ternary\":{\"bgcolor\":\"#E5ECF6\",\"aaxis\":{\"gridcolor\":\"white\",\"linecolor\":\"white\",\"ticks\":\"\"},\"baxis\":{\"gridcolor\":\"white\",\"linecolor\":\"white\",\"ticks\":\"\"},\"caxis\":{\"gridcolor\":\"white\",\"linecolor\":\"white\",\"ticks\":\"\"}},\"coloraxis\":{\"colorbar\":{\"outlinewidth\":0,\"ticks\":\"\"}},\"colorscale\":{\"sequential\":[[0.0,\"#0d0887\"],[0.1111111111111111,\"#46039f\"],[0.2222222222222222,\"#7201a8\"],[0.3333333333333333,\"#9c179e\"],[0.4444444444444444,\"#bd3786\"],[0.5555555555555556,\"#d8576b\"],[0.6666666666666666,\"#ed7953\"],[0.7777777777777778,\"#fb9f3a\"],[0.8888888888888888,\"#fdca26\"],[1.0,\"#f0f921\"]],\"sequentialminus\":[[0.0,\"#0d0887\"],[0.1111111111111111,\"#46039f\"],[0.2222222222222222,\"#7201a8\"],[0.3333333333333333,\"#9c179e\"],[0.4444444444444444,\"#bd3786\"],[0.5555555555555556,\"#d8576b\"],[0.6666666666666666,\"#ed7953\"],[0.7777777777777778,\"#fb9f3a\"],[0.8888888888888888,\"#fdca26\"],[1.0,\"#f0f921\"]],\"diverging\":[[0,\"#8e0152\"],[0.1,\"#c51b7d\"],[0.2,\"#de77ae\"],[0.3,\"#f1b6da\"],[0.4,\"#fde0ef\"],[0.5,\"#f7f7f7\"],[0.6,\"#e6f5d0\"],[0.7,\"#b8e186\"],[0.8,\"#7fbc41\"],[0.9,\"#4d9221\"],[1,\"#276419\"]]},\"xaxis\":{\"gridcolor\":\"white\",\"linecolor\":\"white\",\"ticks\":\"\",\"title\":{\"standoff\":15},\"zerolinecolor\":\"white\",\"automargin\":true,\"zerolinewidth\":2},\"yaxis\":{\"gridcolor\":\"white\",\"linecolor\":\"white\",\"ticks\":\"\",\"title\":{\"standoff\":15},\"zerolinecolor\":\"white\",\"automargin\":true,\"zerolinewidth\":2},\"scene\":{\"xaxis\":{\"backgroundcolor\":\"#E5ECF6\",\"gridcolor\":\"white\",\"linecolor\":\"white\",\"showbackground\":true,\"ticks\":\"\",\"zerolinecolor\":\"white\",\"gridwidth\":2},\"yaxis\":{\"backgroundcolor\":\"#E5ECF6\",\"gridcolor\":\"white\",\"linecolor\":\"white\",\"showbackground\":true,\"ticks\":\"\",\"zerolinecolor\":\"white\",\"gridwidth\":2},\"zaxis\":{\"backgroundcolor\":\"#E5ECF6\",\"gridcolor\":\"white\",\"linecolor\":\"white\",\"showbackground\":true,\"ticks\":\"\",\"zerolinecolor\":\"white\",\"gridwidth\":2}},\"shapedefaults\":{\"line\":{\"color\":\"#2a3f5f\"}},\"annotationdefaults\":{\"arrowcolor\":\"#2a3f5f\",\"arrowhead\":0,\"arrowwidth\":1},\"geo\":{\"bgcolor\":\"white\",\"landcolor\":\"#E5ECF6\",\"subunitcolor\":\"white\",\"showland\":true,\"showlakes\":true,\"lakecolor\":\"white\"},\"title\":{\"x\":0.05},\"mapbox\":{\"style\":\"light\"}}},\"title\":{\"text\":\"3D Scatter Plot\"},\"scene\":{\"xaxis\":{\"title\":{\"text\":\"X-axis\"}},\"yaxis\":{\"title\":{\"text\":\"Y-axis\"}},\"zaxis\":{\"title\":{\"text\":\"Z-axis\"}}}},                        {\"responsive\": true}                    ).then(function(){\n",
              "                            \n",
              "var gd = document.getElementById('e39c26b3-2913-452d-a531-198c38f672da');\n",
              "var x = new MutationObserver(function (mutations, observer) {{\n",
              "        var display = window.getComputedStyle(gd).display;\n",
              "        if (!display || display === 'none') {{\n",
              "            console.log([gd, 'removed!']);\n",
              "            Plotly.purge(gd);\n",
              "            observer.disconnect();\n",
              "        }}\n",
              "}});\n",
              "\n",
              "// Listen for the removal of the full notebook cells\n",
              "var notebookContainer = gd.closest('#notebook-container');\n",
              "if (notebookContainer) {{\n",
              "    x.observe(notebookContainer, {childList: true});\n",
              "}}\n",
              "\n",
              "// Listen for the clearing of the current output cell\n",
              "var outputEl = gd.closest('.output');\n",
              "if (outputEl) {{\n",
              "    x.observe(outputEl, {childList: true});\n",
              "}}\n",
              "\n",
              "                        })                };                            </script>        </div>\n",
              "</body>\n",
              "</html>"
            ]
          },
          "metadata": {}
        }
      ]
    },
    {
      "cell_type": "code",
      "source": [],
      "metadata": {
        "id": "yUqbGxSSZaSU"
      },
      "execution_count": null,
      "outputs": []
    }
  ]
}